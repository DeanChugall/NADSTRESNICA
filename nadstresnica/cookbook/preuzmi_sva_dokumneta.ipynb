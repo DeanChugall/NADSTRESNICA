{
 "cells": [
  {
   "cell_type": "code",
   "execution_count": null,
   "metadata": {},
   "outputs": [],
   "source": [
    "import json\n",
    "import os\n",
    "import random\n",
    "import time\n",
    "from urllib.parse import urljoin\n",
    "\n",
    "import requests\n",
    "from bs4 import BeautifulSoup\n",
    "\n",
    "# URL of the webpage\n",
    "url = \"https://www.srbija.gov.rs/dokument/844348/dokumenta-ministarstva-gradjevinarstva-saobracaja-i-infrastrukture-koja-se-ticu-moguceg-izvrsenja-krivicnog-dela-povodom-pada-nadstresnice-na-zeleznickoj-stanici-u-novom-sadu-1-novembra-2024-godine-22.php\"\n",
    "\n",
    "# Directory to save downloaded files\n",
    "output_dir = \"str-2-downloaded_documents\"\n",
    "os.makedirs(output_dir, exist_ok=True)\n",
    "\n",
    "# List to store downloaded links\n",
    "downloaded_links = []\n",
    "\n",
    "# Send HTTP GET request to the URL\n",
    "response = requests.get(url)\n",
    "response.raise_for_status()\n",
    "\n",
    "# Parse the webpage content\n",
    "soup = BeautifulSoup(response.content, \"html.parser\")\n",
    "\n",
    "# File extensions to look for\n",
    "file_extensions = [\".pdf\", \".zip\", \".rar\", \".doc\", \".docx\", \".xls\", \".xlsx\", \".ppt\", \".pptx\", \".txt\", \".csv\"]\n",
    "\n",
    "# Find all links\n",
    "for link in soup.find_all(\"a\", href=True):\n",
    "    href = link[\"href\"]\n",
    "    link_title = link.get_text(strip=True)\n",
    "    if any(href.lower().endswith(ext) for ext in file_extensions):\n",
    "        file_url = urljoin(url, href)\n",
    "        file_name = os.path.join(output_dir, os.path.basename(href))\n",
    "\n",
    "        # Download the file\n",
    "        try:\n",
    "            print(f\"Downloading {file_url}...\")\n",
    "            file_response = requests.get(file_url)\n",
    "            file_response.raise_for_status()\n",
    "            with open(file_name, \"wb\") as f:\n",
    "                f.write(file_response.content)\n",
    "            print(f\"Saved to {file_name}\")\n",
    "\n",
    "            # Save the link to the list\n",
    "            downloaded_links.append({\"file_name\": file_name, \"file_url\": file_url, \"link_title\": link_title})\n",
    "            print(\"------------------LINK TITLE-----------------------------\")\n",
    "            print(link_title)\n",
    "            print(\"---------------------------------------------------------\")\n",
    "        except requests.RequestException as e:\n",
    "            print(\">>>>>>>>>>>>>>>>>>>>>>>>>>>>>>>>>>>>>>>>>>\")\n",
    "            print(f\">>>>>>>>>>>>>>>>>>>>>>>> Failed to download {file_url}: {e} >>>>>>>>>>>>>>>>>>>>>\")\n",
    "            print(\">>>>>>>>>>>>>>>>>>>>>>>>>>>>>>>>>>>>>>>>>>\")\n",
    "\n",
    "        # Add a random delay between downloads\n",
    "        time_delay = random.uniform(2, 5)  # Random delay between 2 to 5 seconds\n",
    "        print(f\"Waiting for {time_delay:.2f} seconds before the next download...\")\n",
    "        time.sleep(time_delay)\n",
    "\n",
    "# Save the links to a JSON file\n",
    "json_path = os.path.join(output_dir, \"str-2-downloaded_documents.json\")\n",
    "with open(json_path, \"w\", encoding=\"utf-8\") as json_file:\n",
    "    json.dump(downloaded_links, json_file, indent=4, ensure_ascii=False)\n",
    "\n",
    "print(\"Download completed.\")"
   ]
  },
  {
   "cell_type": "code",
   "execution_count": 1,
   "metadata": {},
   "outputs": [
    {
     "name": "stdout",
     "output_type": "stream",
     "text": [
      "Decoded JSON saved to '/home/datatab/Documents/NADSTRESNICA/nadstresnica/dokumentacija/decoded_linkovi_ka_preuzetim_dokumentima.json'\n"
     ]
    }
   ],
   "source": [
    "import json\n",
    "\n",
    "# Input and output file names\n",
    "input_file = \"/home/datatab/Documents/NADSTRESNICA/nadstresnica/dokumentacija/linkovi_ka_preuzetim_dokumentima.json\"\n",
    "output_file = \"/home/datatab/Documents/NADSTRESNICA/nadstresnica/dokumentacija/decoded_linkovi_ka_preuzetim_dokumentima.json\"\n",
    "\n",
    "# Read the JSON file\n",
    "with open(input_file, encoding=\"utf-8\") as file:\n",
    "    data = json.load(file)\n",
    "\n",
    "# Write the decoded JSON to a new file\n",
    "with open(output_file, \"w\", encoding=\"utf-8\") as file:\n",
    "    json.dump(data, file, ensure_ascii=False, indent=4)\n",
    "\n",
    "print(f\"Decoded JSON saved to '{output_file}'\")"
   ]
  }
 ],
 "metadata": {
  "kernelspec": {
   "display_name": ".ns",
   "language": "python",
   "name": "python3"
  },
  "language_info": {
   "codemirror_mode": {
    "name": "ipython",
    "version": 3
   },
   "file_extension": ".py",
   "mimetype": "text/x-python",
   "name": "python",
   "nbconvert_exporter": "python",
   "pygments_lexer": "ipython3",
   "version": "3.12.8"
  }
 },
 "nbformat": 4,
 "nbformat_minor": 2
}
